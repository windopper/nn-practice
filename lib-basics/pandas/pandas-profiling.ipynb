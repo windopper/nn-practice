{
 "cells": [
  {
   "cell_type": "markdown",
   "metadata": {},
   "source": [
    "- 판다스 프로파일링\n",
    "\n",
    "EDA(Explotary Data Analysis)"
   ]
  },
  {
   "cell_type": "code",
   "execution_count": null,
   "metadata": {},
   "outputs": [],
   "source": [
    "import pandas as pd\n",
    "import pandas_profiling\n"
   ]
  }
 ],
 "metadata": {
  "interpreter": {
   "hash": "51b7d3e565e7d5aa9a7d7fad84c2fb82eacb2ae756bd328424a396cd61e8d8a4"
  },
  "kernelspec": {
   "display_name": "Python 3.7.11 ('tensorNN')",
   "language": "python",
   "name": "python3"
  },
  "language_info": {
   "codemirror_mode": {
    "name": "ipython",
    "version": 3
   },
   "file_extension": ".py",
   "mimetype": "text/x-python",
   "name": "python",
   "nbconvert_exporter": "python",
   "pygments_lexer": "ipython3",
   "version": "3.7.11"
  },
  "orig_nbformat": 4
 },
 "nbformat": 4,
 "nbformat_minor": 2
}
